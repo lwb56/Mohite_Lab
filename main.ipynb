{
 "cells": [
  {
   "cell_type": "code",
   "execution_count": 1,
   "metadata": {},
   "outputs": [],
   "source": [
    "import numpy as np\n",
    "import pandas as pd\n",
    "import os, glob\n",
    "import matplotlib.pyplot as plt"
   ]
  },
  {
   "cell_type": "code",
   "execution_count": 2,
   "metadata": {},
   "outputs": [],
   "source": [
    "from utils.tracking import extract"
   ]
  },
  {
   "cell_type": "code",
   "execution_count": 10,
   "metadata": {},
   "outputs": [
    {
     "name": "stdout",
     "output_type": "stream",
     "text": [
      "C://Users\\Bin's X1\\Box\\BNL February 2020 Data\\Light\\maxs\\DJ N3 1W\\sector_average\\DJ_N3_new_th0.100_0.2s_5.00s_2713338_maxs.dat\n"
     ]
    }
   ],
   "source": [
    "path  = \"C://Users\\Bin's X1\\Box\\BNL February 2020 Data\\Light\\maxs\\DJ N3 1W\\sector_average\"\n",
    "\n",
    "infiles = glob.glob(os.path.join(path, '*2713338*'+'*.dat'))\n",
    "\n",
    "print(infiles[0])\n"
   ]
  },
  {
   "cell_type": "code",
   "execution_count": 11,
   "metadata": {},
   "outputs": [],
   "source": [
    "data = extract(infiles[0])"
   ]
  },
  {
   "cell_type": "code",
   "execution_count": 12,
   "metadata": {},
   "outputs": [
    {
     "data": {
      "text/plain": [
       "array([[8.05889195e-03, 2.50000000e+00],\n",
       "       [1.32259396e-02, 1.50000000e+00],\n",
       "       [1.76196835e-02, 1.33333333e+00],\n",
       "       ...,\n",
       "       [3.06087189e+00, 6.18000000e+01],\n",
       "       [3.06525450e+00, 6.02857143e+01],\n",
       "       [3.06985150e+00, 5.95000000e+01]])"
      ]
     },
     "execution_count": 12,
     "metadata": {},
     "output_type": "execute_result"
    }
   ],
   "source": []
  }
 ],
 "metadata": {
  "interpreter": {
   "hash": "ed225720166559e7176d3793db16a2fd8d295f725007103b21ac3099d2a89ee8"
  },
  "kernelspec": {
   "display_name": "Python 3.9.7 ('base')",
   "language": "python",
   "name": "python3"
  },
  "language_info": {
   "codemirror_mode": {
    "name": "ipython",
    "version": 3
   },
   "file_extension": ".py",
   "mimetype": "text/x-python",
   "name": "python",
   "nbconvert_exporter": "python",
   "pygments_lexer": "ipython3",
   "version": "3.9.7"
  },
  "orig_nbformat": 4
 },
 "nbformat": 4,
 "nbformat_minor": 2
}
